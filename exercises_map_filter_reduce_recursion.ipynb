{
 "cells": [
  {
   "cell_type": "markdown",
   "id": "16ce8192",
   "metadata": {},
   "source": [
    "### Exercise #1 <br>\n",
    "<p>Filter out all of the empty strings from the list below</p>\n",
    "\n",
    "`Output: ['Argentina', 'San Diego', 'Boston', 'New York']`"
   ]
  },
  {
   "cell_type": "code",
   "execution_count": null,
   "id": "62a66007",
   "metadata": {},
   "outputs": [],
   "source": [
    "locations = [\" \",\"Argentina\", \" \", \"San Diego\",\"\",\"  \",\"\",\"Boston\",\"New York\",\"DC\", \"          \"]\n",
    "\n",
    "# Remove all of the empty strings"
   ]
  },
  {
   "cell_type": "code",
   "execution_count": null,
   "id": "fc92c399",
   "metadata": {},
   "outputs": [],
   "source": [
    "# Using RegEx\n",
    "import re\n",
    "list(filter(lambda name: re.search('\\w', name), locations))"
   ]
  },
  {
   "cell_type": "code",
   "execution_count": null,
   "id": "f010e669",
   "metadata": {},
   "outputs": [],
   "source": [
    "# Using str.split()\n",
    "list(filter(lambda name: name.split(), locations))"
   ]
  },
  {
   "cell_type": "markdown",
   "id": "402a0b71",
   "metadata": {},
   "source": [
    "### Exercise #2 <br>\n",
    "<p>Write an anonymous function that sorts this list by the last name *case insensitive*...<br><b>Hint: Use the \".sort()\" method  or the \"sorted()\" function and access the key keyword argument\"</b></p>\n",
    "\n",
    "`Output: ['Victor aNisimov', 'Gary A.J. Bernstein', 'Joel Carter', 'Andrew P. Garfield', 'David hassELHOFF']`"
   ]
  },
  {
   "cell_type": "code",
   "execution_count": null,
   "id": "5f7afe55",
   "metadata": {},
   "outputs": [],
   "source": [
    "authors = [\"Joel Carter\", \"Victor aNisimov\", \"Andrew P. Garfield\", \"David hassELHOFF\", \"Gary A.J. Bernstein\"]"
   ]
  },
  {
   "cell_type": "code",
   "execution_count": null,
   "id": "4fa63d97",
   "metadata": {},
   "outputs": [],
   "source": [
    "###### This is documenting my process ######\n",
    "\n",
    "# use .split()[-1] to get the last name\n",
    "# use [0].lower() to get lowercase last initial\n",
    "# use ord() to get a value to sort by\n",
    "# test = 'Bob Ross'\n",
    "# ord(test.split()[-1][0].lower())\n",
    "# >> returns 114 which corresponds to 'r'"
   ]
  },
  {
   "cell_type": "code",
   "execution_count": null,
   "id": "2079fc0c",
   "metadata": {},
   "outputs": [],
   "source": [
    "sorted_authors = sorted(authors, key=lambda author: ord(author.split()[-1][0].lower()))\n",
    "print(sorted_authors)"
   ]
  },
  {
   "cell_type": "markdown",
   "id": "65d88706",
   "metadata": {},
   "source": [
    "### Exercise #3 <br>\n",
    "<p>Convert the list below from Celsius to Farhenheit, using the map function with a lambda...</p>\n",
    "\n",
    "`Output: [('Nashua', 89.6), ('Boston', 53.6), ('Los Angeles', 111.2), ('Miami', 84.2)]\n",
    "`"
   ]
  },
  {
   "cell_type": "code",
   "execution_count": null,
   "id": "ddc9362f",
   "metadata": {},
   "outputs": [],
   "source": [
    "# F = (9/5)*C + 32\n",
    "places = [('Nashua',32),(\"Boston\",12),(\"Los Angeles\",44),(\"Miami\",29)]"
   ]
  },
  {
   "cell_type": "code",
   "execution_count": null,
   "id": "0986e601",
   "metadata": {},
   "outputs": [],
   "source": [
    "##### This is documenting my process #####\n",
    "\n",
    "# Start by testing on a single tuple:\n",
    "# test = ('Nashua', 32)\n",
    "# def convert_c_to_f(tup):\n",
    "#     new_tup = tup[0], ((9 * tup[1])/5) + 32\n",
    "#     return new_tup\n",
    "# convert_c_to_f(test)\n",
    "# Out: ('Nashua', 89.6)"
   ]
  },
  {
   "cell_type": "code",
   "execution_count": null,
   "id": "aafd0085",
   "metadata": {},
   "outputs": [],
   "source": [
    "list(map(lambda tup: (tup[0], ((9 * tup[1])/5) + 32), places))"
   ]
  },
  {
   "cell_type": "markdown",
   "id": "22fbc140",
   "metadata": {},
   "source": [
    "### Exercise #4 <br>\n",
    "<p>Write a recursion function to perform the fibonacci sequence up to the number passed in.</p> <p>More information on the Fibonacci Sequence <a href=\"https://en.wikipedia.org/wiki/Fibonacci_sequence\" target=\"_blank\">here</a>. Start the sequence with `0,1,1,...`.</p>\n",
    "\n"
   ]
  },
  {
   "cell_type": "code",
   "execution_count": null,
   "id": "3f3e5cb2",
   "metadata": {},
   "outputs": [],
   "source": [
    "# This function just returns the largest fibonacci number that is smaller than the given value\n",
    "def fib_less_than(maximum):   ### A BIT INEFFICIENT\n",
    "    \n",
    "    # Dictionary containing already calculated numbers\n",
    "    # This helps to speed up recalculation of fib numbers\n",
    "    fibs = {\n",
    "        '1' : 0,\n",
    "        '2' : 1\n",
    "    }\n",
    "    \n",
    "    # Inner function calculates fibonacci number using recursion\n",
    "    def fibi(x):  \n",
    "        if str(x) in fibs:\n",
    "            return fibs[str(x)]\n",
    "        else:\n",
    "            f = fibi(x-1) + fibi(x-2)\n",
    "            fibs[str(x)] = f\n",
    "            return f\n",
    "    curr = 1 # Which fibonacci number to calculate\n",
    "    fibc = 0 # Current fibonacci number's value\n",
    "    while fibc < maximum: # Will stop when fibc surpasses given max\n",
    "        fibc = fibi(curr)\n",
    "        curr += 1\n",
    "    return fibi(curr-2) # Needs to subtract 2 since increments once AFTER getting above max"
   ]
  },
  {
   "cell_type": "code",
   "execution_count": null,
   "id": "fc9093e1",
   "metadata": {},
   "outputs": [],
   "source": [
    "# The largest fibonacci value less than the input\n",
    "print(fib_less_than(20000))"
   ]
  },
  {
   "cell_type": "markdown",
   "id": "e813d3c8",
   "metadata": {},
   "source": [
    "Now... to print all Fibonacci numbers up to the Nth Fibonacci number"
   ]
  },
  {
   "cell_type": "code",
   "execution_count": null,
   "id": "b64f96b9",
   "metadata": {},
   "outputs": [],
   "source": [
    "# Notes: Runs okay... dictionary gets quite large\n",
    "\n",
    "\n",
    "# Stores the xth Fib in dictionary\n",
    "fib_dict = {\n",
    "    '1' : 0,\n",
    "    '2' : 1\n",
    "}\n",
    "\n",
    "# Calculates recursively and adds to dictionary\n",
    "def get_fib(x):\n",
    "    if str(x) in fib_dict:\n",
    "        return fib_dict[str(x)]\n",
    "    else:\n",
    "        f = get_fib(x-1) + get_fib(x-2)\n",
    "        fib_dict[str(x)] = f\n",
    "        return f\n",
    "\n",
    "# Calls the calculator once and then gets values from dict\n",
    "def print_fibs(n):\n",
    "    get_fib(n)\n",
    "    for i in range(1, n+1):\n",
    "        print(fib_dict[str(i)])"
   ]
  },
  {
   "cell_type": "code",
   "execution_count": null,
   "id": "844fec24",
   "metadata": {},
   "outputs": [],
   "source": [
    "print_fibs(25)"
   ]
  },
  {
   "cell_type": "code",
   "execution_count": null,
   "id": "81d9de6d",
   "metadata": {},
   "outputs": [],
   "source": [
    "# 4000th Fibonacci number: 24665411055943750739295700920408683043621329657331084855778701271654158540392715480900341037863109301466772217246298779225347381716739917111656811808115144572111377140065605401849370481143115915879298729889299837810754445631650196416430463021568595514449785504918067352892206292173283858530346012173429628868997174476215957547377783717970112687386572949323519017556827320679430035556878941709655114722239428742346513312979142866654429342493275835380444580745987338376709572653405103186366562265469193320676382408395686924657068094675464095820220760924728356005277531399953644773206396258899040274360382236547862225150068048454183923080196405384824908283795801265204019342256579481802389814120936489222552142508107754509340549694342959926058170589410813569880167004050051440392247460055993434072332526101572422443738016276258104875526626"
   ]
  },
  {
   "cell_type": "markdown",
   "id": "628a2add",
   "metadata": {},
   "source": [
    "### Exercise #5<br>\n",
    "<p>Create a generator that takes a number argument and yields that number squared down to 0, then call the generator and iterate through and print the result.</p>"
   ]
  },
  {
   "cell_type": "code",
   "execution_count": null,
   "id": "d7d4aade",
   "metadata": {},
   "outputs": [],
   "source": [
    "# for i in generator(10):\n",
    "#     print(i)\n",
    "\n",
    "# 100\n",
    "# 81\n",
    "# 64\n",
    "# 49\n",
    "# 36\n",
    "# 25\n",
    "# 16\n",
    "# 9\n",
    "# 4\n",
    "# 2\n",
    "# 1\n",
    "# 0"
   ]
  },
  {
   "cell_type": "code",
   "execution_count": null,
   "id": "386b777d",
   "metadata": {},
   "outputs": [],
   "source": [
    "# Uses yield to give the next value.\n",
    "def generate_squares_decreasing(x):\n",
    "    while x >= 0:  #Stopping condition on the while loop.\n",
    "        yield x**2\n",
    "        x -= 1"
   ]
  },
  {
   "cell_type": "code",
   "execution_count": null,
   "id": "3f40f66c",
   "metadata": {},
   "outputs": [],
   "source": [
    "for i in generate_squares_decreasing(10):\n",
    "    print(i)"
   ]
  },
  {
   "cell_type": "code",
   "execution_count": null,
   "id": "f1fd7374",
   "metadata": {},
   "outputs": [],
   "source": [
    "generator = generate_squares_decreasing(100)"
   ]
  },
  {
   "cell_type": "code",
   "execution_count": null,
   "id": "e26a9906",
   "metadata": {},
   "outputs": [],
   "source": [
    "next(generator)"
   ]
  },
  {
   "cell_type": "code",
   "execution_count": null,
   "id": "909c5425",
   "metadata": {},
   "outputs": [],
   "source": [
    "next(generator)"
   ]
  },
  {
   "cell_type": "code",
   "execution_count": null,
   "id": "5aa8f239",
   "metadata": {},
   "outputs": [],
   "source": []
  }
 ],
 "metadata": {
  "kernelspec": {
   "display_name": "Python 3 (ipykernel)",
   "language": "python",
   "name": "python3"
  },
  "language_info": {
   "codemirror_mode": {
    "name": "ipython",
    "version": 3
   },
   "file_extension": ".py",
   "mimetype": "text/x-python",
   "name": "python",
   "nbconvert_exporter": "python",
   "pygments_lexer": "ipython3",
   "version": "3.11.5"
  }
 },
 "nbformat": 4,
 "nbformat_minor": 5
}
